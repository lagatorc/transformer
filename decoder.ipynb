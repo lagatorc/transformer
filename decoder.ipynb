{
 "cells": [
  {
   "cell_type": "code",
   "execution_count": 4,
   "metadata": {},
   "outputs": [],
   "source": [
    "import tensorflow as tf"
   ]
  },
  {
   "cell_type": "code",
   "execution_count": 7,
   "metadata": {},
   "outputs": [],
   "source": [
    "class Decoder(tf.keras.layers.Layer):\n",
    "    \n",
    "    def __init__(self, embedding_dim, num_heads, ff_hidden_dim, dropout_rate=0.1):\n",
    "        super(Decoder, self).__init__()\n",
    "        \n",
    "        self.mha_1 = MHAttention(num_heads, embedding_dim)\n",
    "        self.mha_2 = MHAttention(num_heads, embedding_dim)\n",
    "        \n",
    "        self.ff = feed_forward(embedding_dim, ff_hidden_dim)\n",
    "        \n",
    "        self.layernorm_1 = tf.keras.layers.LayerNormalization()\n",
    "        self.layernorm_2 = tf.keras.layers.LayerNormalization()\n",
    "        self.layernorm_3 = tf.keras.layers.LayerNormalization()\n",
    "        \n",
    "        self.dropout_1 = tf.keras.layers.Dropout(dropout_rate)\n",
    "        self.dropout_2 = tf.keras.layers.Dropout(dropout_rate)\n",
    "        self.dropout_3 = tf.keras.layers.Dropout(dropout_rate)\n",
    "        \n",
    "    def call(self, input_tensor, encoder_output, training, mask):\n",
    "        \n",
    "        #Sublayer 1\n",
    "        mha_1_output, _ = self.mha_1(input_tensor, input_tensor, input_tensor, mask)\n",
    "        mha_1_output = self.dropout_1(mha_1_output, training=training)\n",
    "        sublayer_1_output = self.layernorm_1(mha_1_output + input_tensor)\n",
    "        \n",
    "        #Sublayer 2\n",
    "        mha_2_output, _ = self.mha_2(input_tensor, sublayer_1_output, sublayer_1_output, mask)\n",
    "        mha_2_output = self.dropout_2(mha_2_output, training=training)\n",
    "        sublayer_2_output = self.layernorm_2(mha_2_output + sublayer_1_output)\n",
    "        \n",
    "        #Sublayer 2\n",
    "        ff_output = self.ff(sublayer_2_output)\n",
    "        ff_output = self.dropout_3(ff_output, training=training)\n",
    "        return self.layernorm_3(ff_output + sublayer_2_output)"
   ]
  },
  {
   "cell_type": "code",
   "execution_count": 9,
   "metadata": {},
   "outputs": [
    {
     "name": "stdout",
     "output_type": "stream",
     "text": [
      "(1, 60, 512)\n"
     ]
    }
   ],
   "source": [
    "temp_decoder = Decoder(512, 8, 1024)\n",
    "y = tf.random.uniform((1, 60, 512))\n",
    "output = temp_decoder(y, y, False, None)\n",
    "print(output.shape)"
   ]
  },
  {
   "cell_type": "code",
   "execution_count": 16,
   "metadata": {},
   "outputs": [],
   "source": [
    "class DecoderStack(tf.keras.layers.Layer):\n",
    "    def __init__(self, num_decoders, embedding_dim, num_heads, ff_hidden_dim, dropout = 0.1):\n",
    "        super(DecoderStack, self).__init__()\n",
    "        \n",
    "        self.num_decoders = num_decoders\n",
    "        \n",
    "        self.decoders = []\n",
    "        for i in range(self.num_decoders):\n",
    "            self.decoders.append(Decoder(embedding_dim, num_heads, ff_hidden_dim))\n",
    "            \n",
    "    def call(self, input_tensor, encoder_output, training, mask):\n",
    "        \n",
    "        output_tensor = input_tensor\n",
    "        \n",
    "        for i in range(self.num_decoders):\n",
    "            output_tensor = self.decoders[i](output_tensor, encoder_output, training, mask)\n",
    "            \n",
    "        return output_tensor    "
   ]
  },
  {
   "cell_type": "code",
   "execution_count": 17,
   "metadata": {},
   "outputs": [
    {
     "data": {
      "text/plain": [
       "TensorShape([1, 60, 512])"
      ]
     },
     "execution_count": 17,
     "metadata": {},
     "output_type": "execute_result"
    }
   ],
   "source": [
    "temp_decoder_stack = DecoderStack(6, 512, 8, 1024)\n",
    "output = temp_decoder_stack(y, y, False, None)\n",
    "output.shape"
   ]
  },
  {
   "cell_type": "code",
   "execution_count": null,
   "metadata": {},
   "outputs": [],
   "source": []
  }
 ],
 "metadata": {
  "kernelspec": {
   "display_name": "Python 3",
   "language": "python",
   "name": "python3"
  },
  "language_info": {
   "codemirror_mode": {
    "name": "ipython",
    "version": 3
   },
   "file_extension": ".py",
   "mimetype": "text/x-python",
   "name": "python",
   "nbconvert_exporter": "python",
   "pygments_lexer": "ipython3",
   "version": "3.7.6"
  }
 },
 "nbformat": 4,
 "nbformat_minor": 4
}
