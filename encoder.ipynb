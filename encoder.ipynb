{
 "cells": [
  {
   "cell_type": "code",
   "execution_count": 1,
   "metadata": {},
   "outputs": [],
   "source": [
    "import tensorflow as tf"
   ]
  },
  {
   "cell_type": "code",
   "execution_count": 2,
   "metadata": {},
   "outputs": [],
   "source": [
    "def normalized_dot_product_attention(Q, K, V, mask):\n",
    "    \"\"\"\n",
    "    Calculates the dot product attention weights\n",
    "    and returns a matrix Z, which is the same size as \n",
    "    Q, K, and V.\n",
    "    \n",
    "    Parameters:\n",
    "    \n",
    "    Q - The result of applying Wq to X. \n",
    "      - Shape (..., sequence_len, dim_Wq)\n",
    "    K - The result of applying Wk to X. \n",
    "      - Shape (..., sequence_len, dim_Wk)\n",
    "    V - The result of applying Wv to X. \n",
    "      - Shape (..., sequence_len, dim_Wv)\n",
    "    \n",
    "    Returns:\n",
    "    \n",
    "    Z - The matrix created by applying the scaled attention \n",
    "            weights to the V matrix.\n",
    "      - Shape (..., sequence_len, model_dim)\n",
    "      \n",
    "    \"\"\"\n",
    "    #Normalizing Q\n",
    "    Q = tf.divide(Q, tf.norm(Q, axis=-1, keepdims=True))\n",
    "    \n",
    "    #Normalizing K\n",
    "    K = tf.divide(K, tf.norm(K, axis=-1, keepdims=True))\n",
    "    \n",
    "    #compute the dot product of all query and key vectors (b/c they are normalized 0 >= values <=1\n",
    "    attention_logits = tf.matmul(Q, K, transpose_b=True)\n",
    "    \n",
    "    attention_logits *= 1e2\n",
    "        \n",
    "    if mask is not None:\n",
    "        attention_logits += (mask * -1e9)\n",
    "    #apply softmax to find the weights\n",
    "    attention_weights = tf.nn.softmax(attention_logits, axis=-1)\n",
    "    #multiply the weights by the Value matrix\n",
    "    Z = tf.matmul(attention_weights, V)\n",
    "    \n",
    "    return Z, attention_weights"
   ]
  },
  {
   "cell_type": "code",
   "execution_count": 3,
   "metadata": {},
   "outputs": [],
   "source": [
    "class MHAttention(tf.keras.layers.Layer):\n",
    "    \n",
    "    def __init__(self, num_heads, embedding_dim):\n",
    "        super(MHAttention, self).__init__()\n",
    "        assert embedding_dim % num_heads == 0\n",
    "\n",
    "        self.head_dim = embedding_dim // num_heads\n",
    "        self.num_heads = num_heads\n",
    "        self.embedding_dim = embedding_dim\n",
    "\n",
    "        self.Wq = tf.keras.layers.Dense(self.embedding_dim)\n",
    "        self.Wk = tf.keras.layers.Dense(self.embedding_dim)\n",
    "        self.Wv = tf.keras.layers.Dense(self.embedding_dim)\n",
    "\n",
    "        self.Wz = tf.keras.layers.Dense(self.embedding_dim)\n",
    "        \n",
    "    def create_heads(self, x, batch_size):\n",
    "        \n",
    "        return tf.reshape(tf.transpose(x), (batch_size, self.num_heads, -1, self.head_dim))\n",
    "        \n",
    "    def call(self, q, k, v, mask):\n",
    "         \n",
    "        batch_size = q.shape[0]\n",
    "        \n",
    "        q = self.Wq(q)\n",
    "        k = self.Wk(k)\n",
    "        v = self.Wv(v)\n",
    "        \n",
    "        q = self.create_heads(q, batch_size)\n",
    "        k = self.create_heads(k, batch_size)\n",
    "        v = self.create_heads(v, batch_size)\n",
    "        \n",
    "        z, attention_weights = normalized_dot_product_attention(q, k, v, mask)\n",
    "        \n",
    "        concat_z = tf.transpose(z, perm=[0, 2, 1, 3])\n",
    "        \n",
    "        concat_z = tf.reshape(concat_z, (batch_size, -1, self.embedding_dim))\n",
    "        \n",
    "        z = self.Wz(concat_z)\n",
    "        \n",
    "        return z, attention_weights\n"
   ]
  },
  {
   "cell_type": "code",
   "execution_count": 4,
   "metadata": {},
   "outputs": [],
   "source": [
    "def feed_forward(embedding_dim, ff_hidden_dim):\n",
    "    \n",
    "    hidden_layer = tf.keras.layers.Dense(ff_hidden_dim, activation='relu') #(batch size, seq len, hidden dim)\n",
    "    output_layer = tf.keras.layers.Dense(embedding_dim) #(batch size, seq len, embedding dim)\n",
    "    \n",
    "    return tf.keras.Sequential([\n",
    "        hidden_layer,\n",
    "        output_layer\n",
    "    ])"
   ]
  },
  {
   "cell_type": "code",
   "execution_count": 5,
   "metadata": {},
   "outputs": [],
   "source": [
    "class Encoder(tf.keras.layers.Layer):\n",
    "    \n",
    "    def __init__(self, embedding_dim, num_heads, ff_hidden_dim, dropout_rate=0.1):\n",
    "        super(Encoder, self).__init__()\n",
    "        \n",
    "        self.mha = MHAttention(num_heads, embedding_dim)\n",
    "        \n",
    "        self.ff = feed_forward(embedding_dim, ff_hidden_dim)\n",
    "        \n",
    "        self.layernorm1 = tf.keras.layers.LayerNormalization()\n",
    "        self.layernorm2 = tf.keras.layers.LayerNormalization()\n",
    "        \n",
    "        self.dropout1 = tf.keras.layers.Dropout(dropout_rate)\n",
    "        self.dropout2 = tf.keras.layers.Dropout(dropout_rate)\n",
    "        \n",
    "    def call(self, input_tensor, training, mask):\n",
    "        \n",
    "        #Sublayer 1\n",
    "        mha_output, _ = self.mha(input_tensor, input_tensor, input_tensor, mask)\n",
    "        mha_output = self.dropout1(mha_output, training=training)\n",
    "        sublayer_1_output = self.layernorm1(mha_output + input_tensor)\n",
    "        \n",
    "        #Sublayer 2\n",
    "        ff_output = self.ff(sublayer_1_output)\n",
    "        ff_output = self.dropout2(ff_output, training=training)\n",
    "        return self.layernorm2(ff_output + sublayer_1_output)"
   ]
  },
  {
   "cell_type": "code",
   "execution_count": 9,
   "metadata": {},
   "outputs": [
    {
     "name": "stdout",
     "output_type": "stream",
     "text": [
      "(1, 60, 512)\n"
     ]
    }
   ],
   "source": [
    "temp_encoder = Encoder(512, 8, 1024)\n",
    "y = tf.random.uniform((1, 60, 512))\n",
    "output = temp_encoder(y, False, None)\n",
    "print(output.shape)"
   ]
  },
  {
   "cell_type": "code",
   "execution_count": 7,
   "metadata": {},
   "outputs": [],
   "source": [
    "class EncoderStack(tf.keras.layers.Layer):\n",
    "    def __init__(self, num_encoders, embedding_dim, num_heads, ff_hidden_dim, dropout = 0.1):\n",
    "        super(EncoderStack, self).__init__()\n",
    "        \n",
    "        self.num_encoders = num_encoders\n",
    "        \n",
    "        self.encoders = []\n",
    "        for i in range(self.num_encoders):\n",
    "            self.encoders.append(Encoder(embedding_dim, num_heads, ff_hidden_dim))\n",
    "            \n",
    "    def call(self, input_tensor, training, mask):\n",
    "        \n",
    "        output_tensor = input_tensor\n",
    "        \n",
    "        for i in range(self.num_encoders):\n",
    "            output_tensor = self.encoders[i](output_tensor, training, mask)\n",
    "            \n",
    "        return output_tensor    "
   ]
  },
  {
   "cell_type": "code",
   "execution_count": 10,
   "metadata": {},
   "outputs": [
    {
     "data": {
      "text/plain": [
       "TensorShape([1, 60, 512])"
      ]
     },
     "execution_count": 10,
     "metadata": {},
     "output_type": "execute_result"
    }
   ],
   "source": [
    "temp_encoder_stack = EncoderStack(6, 512, 8, 1024)\n",
    "output = temp_encoder_stack(y, False, None)\n",
    "print(output.shape)"
   ]
  },
  {
   "cell_type": "code",
   "execution_count": null,
   "metadata": {},
   "outputs": [],
   "source": []
  }
 ],
 "metadata": {
  "kernelspec": {
   "display_name": "Python 3",
   "language": "python",
   "name": "python3"
  },
  "language_info": {
   "codemirror_mode": {
    "name": "ipython",
    "version": 3
   },
   "file_extension": ".py",
   "mimetype": "text/x-python",
   "name": "python",
   "nbconvert_exporter": "python",
   "pygments_lexer": "ipython3",
   "version": "3.7.6"
  }
 },
 "nbformat": 4,
 "nbformat_minor": 4
}
